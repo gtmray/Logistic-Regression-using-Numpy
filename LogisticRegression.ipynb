{
  "nbformat": 4,
  "nbformat_minor": 0,
  "metadata": {
    "colab": {
      "name": "Untitled40.ipynb",
      "provenance": [],
      "authorship_tag": "ABX9TyMsApSPlDt5DNmqfN72HWWa",
      "include_colab_link": true
    },
    "kernelspec": {
      "name": "python3",
      "display_name": "Python 3"
    }
  },
  "cells": [
    {
      "cell_type": "markdown",
      "metadata": {
        "id": "view-in-github",
        "colab_type": "text"
      },
      "source": [
        "<a href=\"https://colab.research.google.com/github/gtmray/Logistic-Regression-using-Numpy/blob/master/LogisticRegression.ipynb\" target=\"_parent\"><img src=\"https://colab.research.google.com/assets/colab-badge.svg\" alt=\"Open In Colab\"/></a>"
      ]
    },
    {
      "cell_type": "code",
      "metadata": {
        "id": "TILjp5VV6xjM",
        "colab_type": "code",
        "colab": {}
      },
      "source": [
        "import numpy as np\n",
        "import pandas as pd\n",
        "import matplotlib.pyplot as plt\n",
        "import seaborn as sns\n",
        "from sklearn.model_selection import train_test_split\n",
        "from sklearn.linear_model import LogisticRegression\n",
        "from sklearn.metrics import confusion_matrix\n",
        "from sklearn.metrics import roc_curve\n",
        "from sklearn.metrics import roc_auc_score\n",
        "from sklearn.preprocessing import StandardScaler\n",
        "\n",
        "pd.set_option('display.max_columns', 10)\n",
        "sns.set()\n",
        "plt.style.use('ggplot')"
      ],
      "execution_count": 92,
      "outputs": []
    },
    {
      "cell_type": "code",
      "metadata": {
        "id": "qP0LNRm18jEG",
        "colab_type": "code",
        "colab": {}
      },
      "source": [
        "cols = [\"Pregnancies\" ,\"Glucose\" ,\"BloodPressure\" ,\"SkinThickness\" ,\"Insulin\" ,\"BMI\" ,\"DiabetesPedigreeFunction\" ,\"Age\" ,\"Outcome\"]\n",
        "url = \"https://gist.githubusercontent.com/ktisha/c21e73a1bd1700294ef790c56c8aec1f/raw/819b69b5736821ccee93d05b51de0510bea00294/pima-indians-diabetes.csv\"\n",
        "df = pd.read_csv(url, skiprows=9, names=cols)"
      ],
      "execution_count": 93,
      "outputs": []
    },
    {
      "cell_type": "code",
      "metadata": {
        "id": "Lw77B5Ds8x9Q",
        "colab_type": "code",
        "colab": {}
      },
      "source": [
        "target_col = 'Outcome'\n",
        "X = df.drop(target_col, axis=1)\n",
        "scaler = StandardScaler()\n",
        "X = scaler.fit_transform(X)\n",
        "y = df[target_col]\n",
        "X_train, X_test, y_train, y_test = train_test_split(X, y, test_size=0.2, random_state=42)\n"
      ],
      "execution_count": 94,
      "outputs": []
    },
    {
      "cell_type": "code",
      "metadata": {
        "id": "XYWwOQLE_SSz",
        "colab_type": "code",
        "colab": {
          "base_uri": "https://localhost:8080/",
          "height": 605
        },
        "outputId": "c29b8f53-0b9b-4406-f0a1-435d1167403b"
      },
      "source": [
        "class LogisticRegressionRAY:\n",
        "    def __init__(self, learning_rate=0.01, epochs=1000, verbose=False, plot_loss=False):\n",
        "      self.learning_rate = learning_rate\n",
        "      self.epochs = epochs\n",
        "      self.verbose = verbose\n",
        "      self.plot_loss = plot_loss\n",
        "      self.w = None\n",
        "      self.b = None\n",
        "    \n",
        "      self.cost_per_iteration = []\n",
        "\n",
        "    def sigmoid(self, z):\n",
        "      return 1/(1+np.exp(-z))\n",
        "\n",
        "    def loss(self, a, Y, m):\n",
        "      return (-1/m)*np.sum(Y*np.log(a) + (1-Y)*np.log(1-a))\n",
        "   \n",
        "    def fit(self, X, Y):\n",
        "      m, n = X.shape\n",
        "      #Forward propagatoin\n",
        "      self.w = np.zeros(n)\n",
        "      self.b = 0\n",
        "\n",
        "      for i in range(self.epochs):\n",
        "        z = np.dot(X, self.w) + self.b\n",
        "        a = self.sigmoid(z)\n",
        "        cost = self.loss(a, Y, m)\n",
        "\n",
        "        if i%1000 == 0 and self.verbose==True:\n",
        "          self.cost_per_iteration.append(cost)\n",
        "          print(\"Number of Epochs: \",i,\" Cost: \",cost)\n",
        "        \n",
        "        #Backpropagation\n",
        "        dw = (np.dot(X.T, (a - Y)))/m #gradient of weight\n",
        "        db = (np.sum(a - Y)).mean()/m #gradient of bias\n",
        "        \n",
        "        #Updating weights\n",
        "        self.w = self.w - self.learning_rate*dw\n",
        "        self.b = self.b - self.learning_rate*db\n",
        "\n",
        "    def predict(self, X):\n",
        "        Z = np.dot(X, self.w) + self.b\n",
        "        y_hat = self.sigmoid(Z)\n",
        "        y_predicted_cls = [1 if i >= 0.5 else 0 for i in y_hat]\n",
        "        return y_predicted_cls\n",
        "\n",
        "    \n",
        "    def score(self, X, Y):\n",
        "      z = np.dot(X, self.w) + self.b\n",
        "      y_hat = self.sigmoid(z)\n",
        "      if self.plot_loss:\n",
        "        plt.plot(self.cost_per_iteration)\n",
        "        plt.show()\n",
        "      return (y_hat.round()==Y).mean()\n",
        "    \n",
        "model = LogisticRegressionRAY(learning_rate=0.001, epochs=15000, verbose=True, plot_loss=True)\n",
        "model.fit(X_train, y_train)\n",
        "y_pred = model.predict(X_test)\n",
        "score = model.score(X_test, y_test)\n",
        "print(\"--------------------------------------------------------------------------\")\n",
        "print(\"***********MY MODEL ACCURACY SCORE ON TEST DATA: \",score, \"********\")\n",
        "print(\"--------------------------------------------------------------------------\")"
      ],
      "execution_count": 95,
      "outputs": [
        {
          "output_type": "stream",
          "text": [
            "Number of Epochs:  0  Cost:  0.6931471805599454\n",
            "Number of Epochs:  1000  Cost:  0.602665896544678\n",
            "Number of Epochs:  2000  Cost:  0.5574622693344498\n",
            "Number of Epochs:  3000  Cost:  0.5316524123416859\n",
            "Number of Epochs:  4000  Cost:  0.5153530033439773\n",
            "Number of Epochs:  5000  Cost:  0.5043098521188911\n",
            "Number of Epochs:  6000  Cost:  0.49644883048146066\n",
            "Number of Epochs:  7000  Cost:  0.49064981001909386\n",
            "Number of Epochs:  8000  Cost:  0.48625686758838904\n",
            "Number of Epochs:  9000  Cost:  0.48286062859518\n",
            "Number of Epochs:  10000  Cost:  0.48019241649433736\n",
            "Number of Epochs:  11000  Cost:  0.47806871828427977\n",
            "Number of Epochs:  12000  Cost:  0.476360121012311\n",
            "Number of Epochs:  13000  Cost:  0.4749729690992532\n",
            "Number of Epochs:  14000  Cost:  0.4738380258739079\n"
          ],
          "name": "stdout"
        },
        {
          "output_type": "display_data",
          "data": {
            "image/png": "[encoded data removed]",
            "text/plain": [
              "<Figure size 432x288 with 1 Axes>"
            ]
          },
          "metadata": {
            "tags": []
          }
        },
        {
          "output_type": "stream",
          "text": [
            "--------------------------------------------------------------------------\n",
            "***********MY MODEL ACCURACY SCORE ON TEST DATA:  0.7532467532467533 ***************\n",
            "--------------------------------------------------------------------------\n"
          ],
          "name": "stdout"
        }
      ]
    },
    {
      "cell_type": "code",
      "metadata": {
        "id": "YfEqQbiY_04B",
        "colab_type": "code",
        "colab": {
          "base_uri": "https://localhost:8080/",
          "height": 627
        },
        "outputId": "1e12121b-0074-4a9f-ebaa-f2acfc8d9f35"
      },
      "source": [
        "def plot_confusion_matrix(y, y_hat):\n",
        "  confuse = confusion_matrix(y, y_hat)    \n",
        "  sns.heatmap(pd.DataFrame(confuse), annot=True, cmap='viridis', fmt='g')\n",
        "  plt.tight_layout()\n",
        "  plt.xlabel('Predicted label')\n",
        "  plt.ylabel('Actual label')\n",
        "  plt.title('CONFUSION MATRIX')\n",
        "  plt.show()\n",
        "\n",
        "def performance_metrics(y, y_pred):\n",
        "\n",
        "  all = y.size\n",
        "  confuse = confusion_matrix(y, y_pred)\n",
        "  tp, fp, fn, tn = confuse.ravel()\n",
        "  precision = tp/(tp+fp)\n",
        "  tpr = recall = tp/(tp+fn)\n",
        "  f1_score = (2*precision*recall)/(precision+recall)\n",
        "  fpr = fp/(fp+tn)\n",
        "  return fpr, tpr, f1_score\n",
        "\n",
        "def plot_roc_curve(fpr, tpr):\n",
        "    plt.figure(figsize=(4, 4))\n",
        "    plt.plot(fpr, tpr)\n",
        "    plt.plot([0, 1], [0, 1], 'k--') #Threshold of the line\n",
        "    plt.axis([0, 1, 0, 1]) #Reduces extra spaces\n",
        "    plt.xlabel('False Positive Rate (Fall-Out)', fontsize=8)\n",
        "    plt.ylabel('True Positive Rate (Recall)', fontsize=8)\n",
        "    plt.title('ROC AUC CURVE')\n",
        "    plt.show()\n",
        "\n",
        "roc_score = roc_auc_score(y_test, y_pred)\n",
        "print(\"ROC SCORE: \", roc_score)\n",
        "\n",
        "plot_confusion_matrix(y_test, y_pred)\n",
        "fpr, tpr, thresholdsh = roc_curve(y_test, y_pred)\n",
        "plot_roc_curve(fpr, tpr)\n",
        "# fpr, tpr, f1 = performance_metrics(y_test, y_pred) \n",
        "# print(\"False positive rate: {:.2f}, True positive rate: {:.2f}, F1 SCORE: {:.2f}\".format(fpr, tpr, f1)) \n"
      ],
      "execution_count": 96,
      "outputs": [
        {
          "output_type": "stream",
          "text": [
            "ROC SCORE:  0.7313131313131312\n"
          ],
          "name": "stdout"
        },
        {
          "output_type": "display_data",
          "data": {
            "image/png": "[encoded data removed]",
            "text/plain": [
              "<Figure size 432x288 with 2 Axes>"
            ]
          },
          "metadata": {
            "tags": []
          }
        },
        {
          "output_type": "display_data",
          "data": {
            "image/png": "[encoded data removed]",
            "text/plain": [
              "<Figure size 288x288 with 1 Axes>"
            ]
          },
          "metadata": {
            "tags": []
          }
        }
      ]
    },
    {
      "cell_type": "code",
      "metadata": {
        "id": "8ub9pfYoQtaJ",
        "colab_type": "code",
        "colab": {}
      },
      "source": [
        ""
      ],
      "execution_count": 96,
      "outputs": []
    }
  ]
}